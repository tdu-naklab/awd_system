{
 "cells": [
  {
   "cell_type": "code",
   "execution_count": null,
   "metadata": {
    "collapsed": false,
    "pycharm": {
     "name": "#%%\n",
     "is_executing": false
    }
   },
   "outputs": [],
   "source": [
    "\n",
    "import numpy as np\n",
    "import cv2\n",
    "import time\n",
    "import pandas as pd\n",
    "import functools\n",
    "\n",
    "\n",
    "frame = cv2.imread(\"./tr.png\")\n",
    "frame = cv2.cvtColor(frame, cv2.COLOR_BGR2GRAY)\n",
    "ret, frame = cv2.threshold(frame, 127, 255, cv2.THRESH_BINARY)\n",
    "frame = pd.DataFrame(frame[0])\n",
    "\n",
    "frame = frame.astype(\"int64\")\n",
    "frame_d = frame.diff()\n",
    "\n"
   ]
  },
  {
   "cell_type": "code",
   "execution_count": 26,
   "metadata": {
    "collapsed": false,
    "pycharm": {
     "name": "#%%\n",
     "is_executing": false
    }
   },
   "outputs": [
    {
     "name": "stdout",
     "output_type": "stream",
     "text": [
      "start bar 1本目 開始座標: 242\nstart bar 1本目 終了座標: 314\nstartbar size: 72\nminBarSize: 61.20\nmaxBarSize: 82.80\nreverse:  379 65 -255.0 白→黒\n範囲内: 1\nreverse:  450 71 255.0 黒→白\n範囲内: 1\nreverse:  515 65 -255.0 白→黒\n範囲内: 1\nreverse:  655 140 255.0 黒→白\n範囲内: 2\nreverse:  787 132 -255.0 白→黒\n範囲内: 2\nreverse:  927 140 255.0 黒→白\n範囲内: 2\nreverse:  992 65 -255.0 白→黒\n範囲内: 1\nreverse:  1131 139 255.0 黒→白\n範囲内: 2\nreverse:  1332 201 -255.0 白→黒\n範囲内: 3\nreverse:  1404 72 255.0 黒→白\n範囲内: 1\nreverse:  1468 64 -255.0 白→黒\n範囲内: 1\nreverse:  1540 72 255.0 黒→白\n範囲内: 1\nreverse:  1605 65 -255.0 白→黒\n範囲内: 1\nreverse:  1813 208 255.0 黒→白\n範囲内: 3\nreverse:  2013 200 -255.0 白→黒\n範囲内: 3\nreverse:  2153 140 255.0 黒→白\n範囲内: 2\nreverse:  2286 133 -255.0 白→黒\n範囲内: 2\nreverse:  2358 72 255.0 黒→白\n範囲内: 1\nreverse:  2422 64 -255.0 白→黒\n範囲内: 1\nreverse:  2494 72 255.0 黒→白\n範囲内: 1\nreverse:  2558 64 -255.0 白→黒\n範囲内: 1\nreverse:  2630 72 255.0 黒→白\n範囲内: 1\n[1, 0, 1, 0, 1, 1, 0, 0, 1, 1, 0, 1, 1, 0, 0, 0, 1, 0, 1, 0, 1, 1, 1, 0, 0, 0, 1, 1, 0, 0, 1, 0, 1, 0, 1]\n開始ガイドバー: [1, 0, 1]\n1桁目: [0, 1, 1, 0, 0, 1]\n2桁目: [1, 0, 1, 1, 0, 0]\nセンターバー: [0, 1, 0, 1, 0]\n3桁目: [1, 1, 1, 0, 0, 0]\n4桁目: [1, 1, 0, 0, 1, 0]\n終了ガイドバー: [1, 0, 1]\n"
     ]
    }
   ],
   "source": [
    "\n",
    "frameSize = len(frame_d[0])\n",
    "\n",
    "startBarStart = 0\n",
    "for i in range(frameSize):\n",
    "    # 白から黒へ\n",
    "    if frame_d[0][i] == -255:\n",
    "        print(\"start bar 1本目 開始座標:\", i)\n",
    "        startBarStart = i\n",
    "        break      \n",
    "\n",
    "startBarEnd = 0\n",
    "for i in range(startBarStart, frameSize):\n",
    "    # 黒から白へ\n",
    "    if frame_d[0][i] == 255:\n",
    "        print(\"start bar 1本目 終了座標:\", i)\n",
    "        startBarEnd = i\n",
    "        break\n",
    "\n",
    "startBarSize = startBarEnd - startBarStart\n",
    "print(\"startbar size:\", startBarSize)\n",
    "\n",
    "\n",
    "# しきい値±10%のサイズを許容する\n",
    "threshold = 0.15\n",
    "\n",
    "minBarSize = startBarSize * (1 - threshold)\n",
    "maxBarSize = startBarSize * (1 + threshold)\n",
    "\n",
    "print(\"minBarSize: {0:.2f}\".format(minBarSize))\n",
    "print(\"maxBarSize: {0:.2f}\".format(maxBarSize))\n",
    "\n",
    "\n",
    "decodeBar = [1]\n",
    "lastHit = startBarEnd\n",
    "for i in range(startBarEnd+1, frameSize):\n",
    "    # 色が反転した箇所\n",
    "    if frame_d[0][i] != 0:\n",
    "        length = i-lastHit\n",
    "        \n",
    "        color = \"黒→白\" if frame_d[0][i] == 255.0 else \"白→黒\"\n",
    "        print(\"reverse: \", i, length ,frame_d[0][i], color)\n",
    "        lastHit = i\n",
    "        for j in range(1,7):\n",
    "            if minBarSize * j <= length <= maxBarSize * j:\n",
    "                print(\"範囲内:\", j)\n",
    "                color = 1 if frame_d[0][i] == 255.0 else 0\n",
    "                for k in range(j): decodeBar.append(color)\n",
    "                break\n",
    "\n",
    "# 最初のバーを基準に間隔を算出した結果\n",
    "print(decodeBar)\n",
    "print(\"開始ガイドバー:\", decodeBar[0:3])\n",
    "if not decodeBar[0:3] == [1,0,1]:\n",
    "    raise Exception(\"開始ガイドバー未検出\")\n",
    "\n",
    "print(\"1桁目:\", decodeBar[3:9])\n",
    "print(\"2桁目:\", decodeBar[9:15])\n",
    "print(\"センターバー:\", decodeBar[15:20])\n",
    "\n",
    "if not decodeBar[15:20] == [0, 1, 0, 1, 0]:\n",
    "    raise Exception(\"センターバー未検出\")\n",
    "\n",
    "print(\"3桁目:\", decodeBar[20:26])\n",
    "print(\"4桁目:\", decodeBar[26:32])\n",
    "print(\"終了ガイドバー:\", decodeBar[32:35])\n",
    "\n",
    "if not decodeBar[32:35] == [1,0,1]:\n",
    "    raise Exception(\"終了ガイドバー未検出\")\n"
   ]
  },
  {
   "cell_type": "code",
   "execution_count": null,
   "metadata": {
    "collapsed": false,
    "pycharm": {
     "name": "#%%\n"
    }
   },
   "outputs": [],
   "source": [
    "\n"
   ]
  }
 ],
 "metadata": {
  "language_info": {
   "codemirror_mode": {
    "name": "ipython",
    "version": 2
   },
   "file_extension": ".py",
   "mimetype": "text/x-python",
   "name": "python",
   "nbconvert_exporter": "python",
   "pygments_lexer": "ipython2",
   "version": "2.7.6"
  },
  "kernelspec": {
   "name": "python3",
   "language": "python",
   "display_name": "Python 3"
  },
  "pycharm": {
   "stem_cell": {
    "cell_type": "raw",
    "source": [],
    "metadata": {
     "collapsed": false
    }
   }
  }
 },
 "nbformat": 4,
 "nbformat_minor": 0
}
