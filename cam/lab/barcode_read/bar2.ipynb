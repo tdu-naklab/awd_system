{
 "cells": [
  {
   "cell_type": "code",
   "execution_count": 16,
   "outputs": [],
   "source": [
    "\n",
    "import numpy as np\n",
    "import cv2\n",
    "import time\n",
    "import pandas as pd\n",
    "import functools\n",
    "\n",
    "\n",
    "frame = cv2.imread(\"../../ca2.png\")\n",
    "frame = cv2.cvtColor(frame, cv2.COLOR_BGR2GRAY)\n",
    "ret, frame = cv2.threshold(frame, 127, 255, cv2.THRESH_BINARY)\n",
    "frame = frame.transpose()[:, ::-1]\n",
    "frame = pd.DataFrame(frame)\n",
    "\n",
    "frame = frame.astype(\"int64\")\n",
    "frame_d = frame.diff()\n"
   ],
   "metadata": {
    "collapsed": false,
    "pycharm": {
     "name": "#%%\n",
     "is_executing": false
    }
   }
  },
  {
   "cell_type": "code",
   "execution_count": 4,
   "outputs": [
    {
     "name": "stdout",
     "text": [
      "-255.0\n255.0\n-255.0\n255.0\n-255.0\n255.0\n-255.0\n255.0\n-255.0\n255.0\n-255.0\n255.0\n-255.0\n255.0\n-255.0\n255.0\n-255.0\n255.0\n-255.0\n255.0\n-255.0\n255.0\n"
     ],
     "output_type": "stream"
    }
   ],
   "source": [
    "diff_index = frame_d.index[frame_d.abs() == 255]\n",
    "for d in diff_index:\n",
    "    print(frame_d[d])\n",
    "    "
   ],
   "metadata": {
    "collapsed": false,
    "pycharm": {
     "name": "#%%\n",
     "is_executing": false
    }
   }
  },
  {
   "cell_type": "code",
   "execution_count": 52,
   "outputs": [
    {
     "data": {
      "text/plain": "         0      1      2      3      4\n0      NaN    NaN    NaN    NaN    NaN\n1    255.0    NaN  255.0    NaN    NaN\n2      NaN    NaN    NaN    NaN    NaN\n3      NaN    NaN    NaN    NaN    NaN\n4      NaN    NaN    NaN    NaN    NaN\n5   -255.0 -255.0 -255.0 -255.0 -255.0\n6      NaN    NaN    NaN    NaN    NaN\n7      NaN    NaN    NaN    NaN    NaN\n8      NaN    NaN    NaN    NaN    NaN\n9    255.0  255.0  255.0  255.0  255.0\n10     NaN    NaN    NaN    NaN    NaN\n11  -255.0 -255.0 -255.0 -255.0 -255.0\n12     NaN    NaN    NaN    NaN    NaN\n13     NaN    NaN    NaN    NaN    NaN\n14     NaN    NaN    NaN    NaN    NaN\n15   255.0  255.0  255.0  255.0  255.0\n16     NaN    NaN    NaN    NaN    NaN\n17  -255.0 -255.0 -255.0 -255.0 -255.0\n18     NaN    NaN    NaN    NaN    NaN\n19     NaN    NaN    NaN    NaN    NaN\n20     NaN    NaN    NaN    NaN    NaN\n21     NaN    NaN    NaN    NaN    NaN\n22     NaN    NaN    NaN    NaN    NaN\n23     NaN  255.0    NaN    NaN    NaN\n24   255.0    NaN  255.0  255.0    NaN\n25     NaN    NaN    NaN    NaN  255.0\n26     NaN    NaN    NaN    NaN    NaN\n27     NaN    NaN    NaN    NaN    NaN\n28     NaN    NaN    NaN    NaN    NaN\n29  -255.0 -255.0 -255.0 -255.0 -255.0\n..     ...    ...    ...    ...    ...\n87     NaN    NaN    NaN    NaN    NaN\n88     NaN    NaN    NaN    NaN    NaN\n89   255.0  255.0  255.0  255.0  255.0\n90     NaN    NaN    NaN    NaN    NaN\n91     NaN    NaN    NaN    NaN    NaN\n92     NaN    NaN    NaN    NaN    NaN\n93     NaN    NaN    NaN    NaN    NaN\n94     NaN    NaN    NaN    NaN    NaN\n95  -255.0 -255.0 -255.0 -255.0 -255.0\n96     NaN    NaN    NaN    NaN    NaN\n97     NaN    NaN    NaN    NaN    NaN\n98     NaN    NaN    NaN    NaN    NaN\n99     NaN    NaN    NaN    NaN    NaN\n100    NaN    NaN    NaN    NaN    NaN\n101    NaN    NaN    NaN    NaN    NaN\n102    NaN    NaN    NaN    NaN    NaN\n103    NaN    NaN    NaN    NaN    NaN\n104    NaN  255.0    NaN  255.0    NaN\n105  255.0    NaN  255.0    NaN  255.0\n106    NaN    NaN    NaN    NaN    NaN\n107 -255.0 -255.0 -255.0 -255.0 -255.0\n108    NaN    NaN    NaN    NaN    NaN\n109    NaN    NaN    NaN    NaN    NaN\n110  255.0  255.0    NaN    NaN    NaN\n111    NaN    NaN  255.0  255.0  255.0\n112    NaN    NaN    NaN    NaN    NaN\n113    NaN    NaN    NaN    NaN    NaN\n114    NaN    NaN    NaN    NaN    NaN\n115    NaN    NaN    NaN    NaN    NaN\n116    NaN    NaN    NaN    NaN    NaN\n\n[117 rows x 5 columns]",
      "text/html": "<div>\n<style scoped>\n    .dataframe tbody tr th:only-of-type {\n        vertical-align: middle;\n    }\n\n    .dataframe tbody tr th {\n        vertical-align: top;\n    }\n\n    .dataframe thead th {\n        text-align: right;\n    }\n</style>\n<table border=\"1\" class=\"dataframe\">\n  <thead>\n    <tr style=\"text-align: right;\">\n      <th></th>\n      <th>0</th>\n      <th>1</th>\n      <th>2</th>\n      <th>3</th>\n      <th>4</th>\n    </tr>\n  </thead>\n  <tbody>\n    <tr>\n      <th>0</th>\n      <td>NaN</td>\n      <td>NaN</td>\n      <td>NaN</td>\n      <td>NaN</td>\n      <td>NaN</td>\n    </tr>\n    <tr>\n      <th>1</th>\n      <td>255.0</td>\n      <td>NaN</td>\n      <td>255.0</td>\n      <td>NaN</td>\n      <td>NaN</td>\n    </tr>\n    <tr>\n      <th>2</th>\n      <td>NaN</td>\n      <td>NaN</td>\n      <td>NaN</td>\n      <td>NaN</td>\n      <td>NaN</td>\n    </tr>\n    <tr>\n      <th>3</th>\n      <td>NaN</td>\n      <td>NaN</td>\n      <td>NaN</td>\n      <td>NaN</td>\n      <td>NaN</td>\n    </tr>\n    <tr>\n      <th>4</th>\n      <td>NaN</td>\n      <td>NaN</td>\n      <td>NaN</td>\n      <td>NaN</td>\n      <td>NaN</td>\n    </tr>\n    <tr>\n      <th>5</th>\n      <td>-255.0</td>\n      <td>-255.0</td>\n      <td>-255.0</td>\n      <td>-255.0</td>\n      <td>-255.0</td>\n    </tr>\n    <tr>\n      <th>6</th>\n      <td>NaN</td>\n      <td>NaN</td>\n      <td>NaN</td>\n      <td>NaN</td>\n      <td>NaN</td>\n    </tr>\n    <tr>\n      <th>7</th>\n      <td>NaN</td>\n      <td>NaN</td>\n      <td>NaN</td>\n      <td>NaN</td>\n      <td>NaN</td>\n    </tr>\n    <tr>\n      <th>8</th>\n      <td>NaN</td>\n      <td>NaN</td>\n      <td>NaN</td>\n      <td>NaN</td>\n      <td>NaN</td>\n    </tr>\n    <tr>\n      <th>9</th>\n      <td>255.0</td>\n      <td>255.0</td>\n      <td>255.0</td>\n      <td>255.0</td>\n      <td>255.0</td>\n    </tr>\n    <tr>\n      <th>10</th>\n      <td>NaN</td>\n      <td>NaN</td>\n      <td>NaN</td>\n      <td>NaN</td>\n      <td>NaN</td>\n    </tr>\n    <tr>\n      <th>11</th>\n      <td>-255.0</td>\n      <td>-255.0</td>\n      <td>-255.0</td>\n      <td>-255.0</td>\n      <td>-255.0</td>\n    </tr>\n    <tr>\n      <th>12</th>\n      <td>NaN</td>\n      <td>NaN</td>\n      <td>NaN</td>\n      <td>NaN</td>\n      <td>NaN</td>\n    </tr>\n    <tr>\n      <th>13</th>\n      <td>NaN</td>\n      <td>NaN</td>\n      <td>NaN</td>\n      <td>NaN</td>\n      <td>NaN</td>\n    </tr>\n    <tr>\n      <th>14</th>\n      <td>NaN</td>\n      <td>NaN</td>\n      <td>NaN</td>\n      <td>NaN</td>\n      <td>NaN</td>\n    </tr>\n    <tr>\n      <th>15</th>\n      <td>255.0</td>\n      <td>255.0</td>\n      <td>255.0</td>\n      <td>255.0</td>\n      <td>255.0</td>\n    </tr>\n    <tr>\n      <th>16</th>\n      <td>NaN</td>\n      <td>NaN</td>\n      <td>NaN</td>\n      <td>NaN</td>\n      <td>NaN</td>\n    </tr>\n    <tr>\n      <th>17</th>\n      <td>-255.0</td>\n      <td>-255.0</td>\n      <td>-255.0</td>\n      <td>-255.0</td>\n      <td>-255.0</td>\n    </tr>\n    <tr>\n      <th>18</th>\n      <td>NaN</td>\n      <td>NaN</td>\n      <td>NaN</td>\n      <td>NaN</td>\n      <td>NaN</td>\n    </tr>\n    <tr>\n      <th>19</th>\n      <td>NaN</td>\n      <td>NaN</td>\n      <td>NaN</td>\n      <td>NaN</td>\n      <td>NaN</td>\n    </tr>\n    <tr>\n      <th>20</th>\n      <td>NaN</td>\n      <td>NaN</td>\n      <td>NaN</td>\n      <td>NaN</td>\n      <td>NaN</td>\n    </tr>\n    <tr>\n      <th>21</th>\n      <td>NaN</td>\n      <td>NaN</td>\n      <td>NaN</td>\n      <td>NaN</td>\n      <td>NaN</td>\n    </tr>\n    <tr>\n      <th>22</th>\n      <td>NaN</td>\n      <td>NaN</td>\n      <td>NaN</td>\n      <td>NaN</td>\n      <td>NaN</td>\n    </tr>\n    <tr>\n      <th>23</th>\n      <td>NaN</td>\n      <td>255.0</td>\n      <td>NaN</td>\n      <td>NaN</td>\n      <td>NaN</td>\n    </tr>\n    <tr>\n      <th>24</th>\n      <td>255.0</td>\n      <td>NaN</td>\n      <td>255.0</td>\n      <td>255.0</td>\n      <td>NaN</td>\n    </tr>\n    <tr>\n      <th>25</th>\n      <td>NaN</td>\n      <td>NaN</td>\n      <td>NaN</td>\n      <td>NaN</td>\n      <td>255.0</td>\n    </tr>\n    <tr>\n      <th>26</th>\n      <td>NaN</td>\n      <td>NaN</td>\n      <td>NaN</td>\n      <td>NaN</td>\n      <td>NaN</td>\n    </tr>\n    <tr>\n      <th>27</th>\n      <td>NaN</td>\n      <td>NaN</td>\n      <td>NaN</td>\n      <td>NaN</td>\n      <td>NaN</td>\n    </tr>\n    <tr>\n      <th>28</th>\n      <td>NaN</td>\n      <td>NaN</td>\n      <td>NaN</td>\n      <td>NaN</td>\n      <td>NaN</td>\n    </tr>\n    <tr>\n      <th>29</th>\n      <td>-255.0</td>\n      <td>-255.0</td>\n      <td>-255.0</td>\n      <td>-255.0</td>\n      <td>-255.0</td>\n    </tr>\n    <tr>\n      <th>...</th>\n      <td>...</td>\n      <td>...</td>\n      <td>...</td>\n      <td>...</td>\n      <td>...</td>\n    </tr>\n    <tr>\n      <th>87</th>\n      <td>NaN</td>\n      <td>NaN</td>\n      <td>NaN</td>\n      <td>NaN</td>\n      <td>NaN</td>\n    </tr>\n    <tr>\n      <th>88</th>\n      <td>NaN</td>\n      <td>NaN</td>\n      <td>NaN</td>\n      <td>NaN</td>\n      <td>NaN</td>\n    </tr>\n    <tr>\n      <th>89</th>\n      <td>255.0</td>\n      <td>255.0</td>\n      <td>255.0</td>\n      <td>255.0</td>\n      <td>255.0</td>\n    </tr>\n    <tr>\n      <th>90</th>\n      <td>NaN</td>\n      <td>NaN</td>\n      <td>NaN</td>\n      <td>NaN</td>\n      <td>NaN</td>\n    </tr>\n    <tr>\n      <th>91</th>\n      <td>NaN</td>\n      <td>NaN</td>\n      <td>NaN</td>\n      <td>NaN</td>\n      <td>NaN</td>\n    </tr>\n    <tr>\n      <th>92</th>\n      <td>NaN</td>\n      <td>NaN</td>\n      <td>NaN</td>\n      <td>NaN</td>\n      <td>NaN</td>\n    </tr>\n    <tr>\n      <th>93</th>\n      <td>NaN</td>\n      <td>NaN</td>\n      <td>NaN</td>\n      <td>NaN</td>\n      <td>NaN</td>\n    </tr>\n    <tr>\n      <th>94</th>\n      <td>NaN</td>\n      <td>NaN</td>\n      <td>NaN</td>\n      <td>NaN</td>\n      <td>NaN</td>\n    </tr>\n    <tr>\n      <th>95</th>\n      <td>-255.0</td>\n      <td>-255.0</td>\n      <td>-255.0</td>\n      <td>-255.0</td>\n      <td>-255.0</td>\n    </tr>\n    <tr>\n      <th>96</th>\n      <td>NaN</td>\n      <td>NaN</td>\n      <td>NaN</td>\n      <td>NaN</td>\n      <td>NaN</td>\n    </tr>\n    <tr>\n      <th>97</th>\n      <td>NaN</td>\n      <td>NaN</td>\n      <td>NaN</td>\n      <td>NaN</td>\n      <td>NaN</td>\n    </tr>\n    <tr>\n      <th>98</th>\n      <td>NaN</td>\n      <td>NaN</td>\n      <td>NaN</td>\n      <td>NaN</td>\n      <td>NaN</td>\n    </tr>\n    <tr>\n      <th>99</th>\n      <td>NaN</td>\n      <td>NaN</td>\n      <td>NaN</td>\n      <td>NaN</td>\n      <td>NaN</td>\n    </tr>\n    <tr>\n      <th>100</th>\n      <td>NaN</td>\n      <td>NaN</td>\n      <td>NaN</td>\n      <td>NaN</td>\n      <td>NaN</td>\n    </tr>\n    <tr>\n      <th>101</th>\n      <td>NaN</td>\n      <td>NaN</td>\n      <td>NaN</td>\n      <td>NaN</td>\n      <td>NaN</td>\n    </tr>\n    <tr>\n      <th>102</th>\n      <td>NaN</td>\n      <td>NaN</td>\n      <td>NaN</td>\n      <td>NaN</td>\n      <td>NaN</td>\n    </tr>\n    <tr>\n      <th>103</th>\n      <td>NaN</td>\n      <td>NaN</td>\n      <td>NaN</td>\n      <td>NaN</td>\n      <td>NaN</td>\n    </tr>\n    <tr>\n      <th>104</th>\n      <td>NaN</td>\n      <td>255.0</td>\n      <td>NaN</td>\n      <td>255.0</td>\n      <td>NaN</td>\n    </tr>\n    <tr>\n      <th>105</th>\n      <td>255.0</td>\n      <td>NaN</td>\n      <td>255.0</td>\n      <td>NaN</td>\n      <td>255.0</td>\n    </tr>\n    <tr>\n      <th>106</th>\n      <td>NaN</td>\n      <td>NaN</td>\n      <td>NaN</td>\n      <td>NaN</td>\n      <td>NaN</td>\n    </tr>\n    <tr>\n      <th>107</th>\n      <td>-255.0</td>\n      <td>-255.0</td>\n      <td>-255.0</td>\n      <td>-255.0</td>\n      <td>-255.0</td>\n    </tr>\n    <tr>\n      <th>108</th>\n      <td>NaN</td>\n      <td>NaN</td>\n      <td>NaN</td>\n      <td>NaN</td>\n      <td>NaN</td>\n    </tr>\n    <tr>\n      <th>109</th>\n      <td>NaN</td>\n      <td>NaN</td>\n      <td>NaN</td>\n      <td>NaN</td>\n      <td>NaN</td>\n    </tr>\n    <tr>\n      <th>110</th>\n      <td>255.0</td>\n      <td>255.0</td>\n      <td>NaN</td>\n      <td>NaN</td>\n      <td>NaN</td>\n    </tr>\n    <tr>\n      <th>111</th>\n      <td>NaN</td>\n      <td>NaN</td>\n      <td>255.0</td>\n      <td>255.0</td>\n      <td>255.0</td>\n    </tr>\n    <tr>\n      <th>112</th>\n      <td>NaN</td>\n      <td>NaN</td>\n      <td>NaN</td>\n      <td>NaN</td>\n      <td>NaN</td>\n    </tr>\n    <tr>\n      <th>113</th>\n      <td>NaN</td>\n      <td>NaN</td>\n      <td>NaN</td>\n      <td>NaN</td>\n      <td>NaN</td>\n    </tr>\n    <tr>\n      <th>114</th>\n      <td>NaN</td>\n      <td>NaN</td>\n      <td>NaN</td>\n      <td>NaN</td>\n      <td>NaN</td>\n    </tr>\n    <tr>\n      <th>115</th>\n      <td>NaN</td>\n      <td>NaN</td>\n      <td>NaN</td>\n      <td>NaN</td>\n      <td>NaN</td>\n    </tr>\n    <tr>\n      <th>116</th>\n      <td>NaN</td>\n      <td>NaN</td>\n      <td>NaN</td>\n      <td>NaN</td>\n      <td>NaN</td>\n    </tr>\n  </tbody>\n</table>\n<p>117 rows × 5 columns</p>\n</div>"
     },
     "metadata": {},
     "output_type": "execute_result",
     "execution_count": 52
    }
   ],
   "source": [
    "frame_d[frame_d.abs() == 255].dropna(axis=1, how=\"all\")\n",
    "# frame_d[:, [1]]\n",
    "# diff_index = frame_d.index[frame_d.abs() == 255]\n",
    "# diff_index = frame_d.index[]\n",
    "# diff_index[diff_index > 20]\n"
   ],
   "metadata": {
    "collapsed": false,
    "pycharm": {
     "name": "#%%\n",
     "is_executing": false
    }
   }
  }
 ],
 "metadata": {
  "language_info": {
   "codemirror_mode": {
    "name": "ipython",
    "version": 2
   },
   "file_extension": ".py",
   "mimetype": "text/x-python",
   "name": "python",
   "nbconvert_exporter": "python",
   "pygments_lexer": "ipython2",
   "version": "2.7.6"
  },
  "kernelspec": {
   "name": "python3",
   "language": "python",
   "display_name": "Python 3"
  },
  "pycharm": {
   "stem_cell": {
    "cell_type": "raw",
    "source": [],
    "metadata": {
     "collapsed": false
    }
   }
  }
 },
 "nbformat": 4,
 "nbformat_minor": 0
}