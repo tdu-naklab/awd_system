{
 "cells": [
  {
   "cell_type": "code",
   "execution_count": 3,
   "outputs": [],
   "source": [
    "\n",
    "import numpy as np\n",
    "import cv2\n",
    "import time\n",
    "import pandas as pd\n",
    "import functools\n",
    "\n",
    "\n",
    "frame = cv2.imread(\"../../ca2.png\")\n",
    "frame = cv2.cvtColor(frame, cv2.COLOR_BGR2GRAY)\n",
    "ret, frame = cv2.threshold(frame, 127, 255, cv2.THRESH_BINARY)\n",
    "frame = pd.DataFrame(frame[0])\n",
    "\n",
    "frame = frame.astype(\"int64\")\n",
    "frame_d = frame.diff()[0]\n"
   ],
   "metadata": {
    "collapsed": false,
    "pycharm": {
     "name": "#%%\n",
     "is_executing": false
    }
   }
  },
  {
   "cell_type": "code",
   "execution_count": 4,
   "outputs": [
    {
     "name": "stdout",
     "text": [
      "-255.0\n255.0\n-255.0\n255.0\n-255.0\n255.0\n-255.0\n255.0\n-255.0\n255.0\n-255.0\n255.0\n-255.0\n255.0\n-255.0\n255.0\n-255.0\n255.0\n-255.0\n255.0\n-255.0\n255.0\n"
     ],
     "output_type": "stream"
    }
   ],
   "source": [
    "diff_index = frame_d.index[frame_d.abs() == 255]\n",
    "for d in diff_index:\n",
    "    print(frame_d[d])\n",
    "    "
   ],
   "metadata": {
    "collapsed": false,
    "pycharm": {
     "name": "#%%\n",
     "is_executing": false
    }
   }
  },
  {
   "cell_type": "code",
   "execution_count": 6,
   "outputs": [
    {
     "data": {
      "text/plain": "Int64Index([25, 29, 36, 39, 45, 53, 57, 59, 63, 65, 75, 86, 89, 95, 105, 107,\n            111],\n           dtype='int64')"
     },
     "metadata": {},
     "output_type": "execute_result",
     "execution_count": 6
    }
   ],
   "source": [
    "diff_index = frame_d.index[frame_d.abs() == 255]\n",
    "diff_index[diff_index > 20]\n"
   ],
   "metadata": {
    "collapsed": false,
    "pycharm": {
     "name": "#%%\n",
     "is_executing": false
    }
   }
  }
 ],
 "metadata": {
  "language_info": {
   "codemirror_mode": {
    "name": "ipython",
    "version": 2
   },
   "file_extension": ".py",
   "mimetype": "text/x-python",
   "name": "python",
   "nbconvert_exporter": "python",
   "pygments_lexer": "ipython2",
   "version": "2.7.6"
  },
  "kernelspec": {
   "name": "python3",
   "language": "python",
   "display_name": "Python 3"
  },
  "pycharm": {
   "stem_cell": {
    "cell_type": "raw",
    "source": [],
    "metadata": {
     "collapsed": false
    }
   }
  }
 },
 "nbformat": 4,
 "nbformat_minor": 0
}