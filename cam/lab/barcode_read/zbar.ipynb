{
 "cells": [
  {
   "cell_type": "code",
   "execution_count": 13,
   "metadata": {
    "collapsed": true,
    "pycharm": {
     "is_executing": false
    }
   },
   "outputs": [
    {
     "name": "stdout",
     "text": [
      "time: 1.5080[ms] 663.13[fps]\n"
     ],
     "output_type": "stream"
    }
   ],
   "source": [
    "from pyzbar.pyzbar import decode\n",
    "from PIL import Image\n",
    "import time\n",
    "\n",
    "image = \"../../ca2.png\"\n",
    "\n",
    "\n",
    "\n",
    "start = time.time()\n",
    "\n",
    "# バーコードの読取り\n",
    "data = decode(Image.open(image))\n",
    "duration = time.time() - start\n",
    "print(\"time: {0:.4f}\".format(duration * 1000) + \"[ms] {0:.2f}\".format(1 / duration) + \"[fps]\")\n",
    "\n",
    "# コード内容を出力\n"
   ]
  }
 ],
 "metadata": {
  "language_info": {
   "codemirror_mode": {
    "name": "ipython",
    "version": 2
   },
   "file_extension": ".py",
   "mimetype": "text/x-python",
   "name": "python",
   "nbconvert_exporter": "python",
   "pygments_lexer": "ipython2",
   "version": "2.7.6"
  },
  "kernelspec": {
   "name": "python3",
   "language": "python",
   "display_name": "Python 3"
  },
  "pycharm": {
   "stem_cell": {
    "cell_type": "raw",
    "source": [],
    "metadata": {
     "collapsed": false
    }
   }
  }
 },
 "nbformat": 4,
 "nbformat_minor": 0
}